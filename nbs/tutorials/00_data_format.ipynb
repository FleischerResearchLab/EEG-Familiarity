{
 "cells": [
  {
   "cell_type": "markdown",
   "metadata": {},
   "source": [
    "# Data Format\n",
    "\n",
    "> Documents the acceptable data format for this pacakge"
   ]
  },
  {
   "cell_type": "markdown",
   "metadata": {},
   "source": [
    "The example data is shown in the directory. Let's load the data and see the formats"
   ]
  },
  {
   "cell_type": "code",
   "execution_count": null,
   "metadata": {},
   "outputs": [],
   "source": [
    "import numpy as np\n",
    "import scipy"
   ]
  },
  {
   "cell_type": "code",
   "execution_count": null,
   "metadata": {},
   "outputs": [
    {
     "data": {
      "text/plain": "dict_keys(['__header__', '__version__', '__globals__', 'user_class_min_1', 'user_feat_1', 'user_prob_1', 'user_resp_1', 'user_source_1', 'user_tr_order_1', 'user_train_prob_1', 'user_weights_1'])"
     },
     "execution_count": null,
     "metadata": {},
     "output_type": "execute_result"
    }
   ],
   "source": [
    "file_path = \"../data/data_CRMN_vs_MMN_imbalLDA_order_proj_1.mat\"\n",
    "data = scipy.io.loadmat(file_path)\n",
    "data.keys()"
   ]
  },
  {
   "cell_type": "markdown",
   "metadata": {},
   "source": [
    "The source code that generated this data file can be accessed at this [link](https://github.com/FleischerResearchLab/EEG-Familiarity-Prediction/blob/main/Keuida's_Codes/CRM_SN_vs_MN_imbalLDA_1450ms_order_proj.m)"
   ]
  },
  {
   "cell_type": "markdown",
   "metadata": {},
   "source": [
    "## Variables of Interest\n",
    "\n",
    "- `tr_num`\n",
    "    - Trail Number\n",
    "- `user_feat_{tr_num}`\n",
    "    - Feature engineered data for each user.\n",
    "- `user_source{tr_num}`\n",
    "    - Source Information\n",
    "- `user_resp_{tr_num}`\n",
    "    - Response Information"
   ]
  },
  {
   "cell_type": "markdown",
   "metadata": {},
   "source": [
    "## User Features"
   ]
  },
  {
   "cell_type": "code",
   "execution_count": null,
   "metadata": {},
   "outputs": [
    {
     "data": {
      "text/plain": "(26,)"
     },
     "execution_count": null,
     "metadata": {},
     "output_type": "execute_result"
    }
   ],
   "source": [
    "user_features = data[\"user_feat_1\"][0]\n",
    "user_features.shape"
   ]
  },
  {
   "cell_type": "markdown",
   "metadata": {},
   "source": [
    "The 26 in shape indicates that in this trail, it has 26 participants."
   ]
  },
  {
   "cell_type": "code",
   "execution_count": null,
   "metadata": {},
   "outputs": [
    {
     "data": {
      "text/plain": "((432, 72), (134, 72))"
     },
     "execution_count": null,
     "metadata": {},
     "output_type": "execute_result"
    }
   ],
   "source": [
    "user_features[0].shape, user_features[1].shape"
   ]
  },
  {
   "cell_type": "code",
   "execution_count": null,
   "metadata": {},
   "outputs": [
    {
     "data": {
      "text/plain": "array([[ -7.23661128, -13.93739628, -22.81788437, ...,  -9.40298223,\n        -11.77818306, -18.10076694],\n       [ -2.63865315,   0.3358343 ,  -1.92867504, ...,  14.19302948,\n          9.98168734,  17.5732571 ],\n       [ -4.28406267,  -9.36639654, -16.71320915, ...,  -2.0318536 ,\n         -3.8530683 ,   3.86939731],\n       ...,\n       [ -3.88435706,  -4.79033675,  -5.75699235, ...,  14.81179504,\n         17.04872137,  13.36880608],\n       [-13.37804033,  -7.12282845,  -1.5593848 , ...,  11.92473593,\n         15.36710888,  26.49037254],\n       [  0.18273821,  -0.71073707,  -6.72626149, ...,  -3.00038489,\n         -4.9075405 , -15.84218536]])"
     },
     "execution_count": null,
     "metadata": {},
     "output_type": "execute_result"
    }
   ],
   "source": [
    "user_features[0]"
   ]
  },
  {
   "cell_type": "markdown",
   "metadata": {},
   "source": [
    "Each participant will have different number of trails, but all the trails has the same number of features (second dimension of 72). Details information is documented at the `ALL_DATA_1.mat` file. (TODO)"
   ]
  },
  {
   "cell_type": "markdown",
   "metadata": {},
   "source": [
    "\n",
    "Each observation in the data has an associated source and response label.\n",
    "\n",
    "# Encoding Table\n",
    "\n",
    "## Source Information\n",
    "\n",
    "Source information is a one-dimensional array that contains the numbering label for the source information. The details of the encoding are illustrated in this table:\n",
    "\n",
    "| Encoding Number |  Full Description | Abbreviation |\n",
    "|:---------------:|:-----------------:|:------------:|\n",
    "|        1        |   Source Correct  |      SC      |\n",
    "|        2        | Correct Rejection |      CR      |\n",
    "|        3        |  Source Incorrect |      SI      |\n",
    "|        4        |        Miss       |     Miss     |\n",
    "|        5        |    False Alarm    |      FA      |\n",
    "\n",
    "## Response Information\n",
    "\n",
    "Response information is a one-dimensional array that contains the numbering label for the response information.\n",
    "\n",
    "| Encoding Number | Full Description | Abbreviation |\n",
    "|:---------------:|:----------------:|:------------:|\n",
    "|        1        |  Remember Source |      RS      |\n",
    "|        2        |  Remember Other  |      RO      |\n",
    "|        3        |    Familiarity   |       F      |\n",
    "|        4        |     Maybe New    |      MN      |\n",
    "|        5        |     Sure New     |      SN      |"
   ]
  },
  {
   "cell_type": "markdown",
   "metadata": {},
   "source": [
    "# Data Shapes and Trails"
   ]
  },
  {
   "cell_type": "markdown",
   "metadata": {},
   "source": [
    "There are 26 participant in this trail (1)"
   ]
  },
  {
   "cell_type": "code",
   "execution_count": null,
   "metadata": {},
   "outputs": [
    {
     "data": {
      "text/plain": "(26,)"
     },
     "execution_count": null,
     "metadata": {},
     "output_type": "execute_result"
    }
   ],
   "source": [
    "source_info = data[\"user_source_1\"][0]\n",
    "source_info.shape"
   ]
  },
  {
   "cell_type": "markdown",
   "metadata": {},
   "source": [
    "The first and the second participant have 432 and 134 observations respectively"
   ]
  },
  {
   "cell_type": "code",
   "execution_count": null,
   "metadata": {},
   "outputs": [
    {
     "data": {
      "text/plain": "((432, 1), (134, 1))"
     },
     "execution_count": null,
     "metadata": {},
     "output_type": "execute_result"
    }
   ],
   "source": [
    "source_info[0].shape, source_info[1].shape"
   ]
  },
  {
   "cell_type": "markdown",
   "metadata": {},
   "source": [
    "The source information are number coded from 1-5"
   ]
  },
  {
   "cell_type": "code",
   "execution_count": null,
   "metadata": {},
   "outputs": [
    {
     "data": {
      "text/plain": "(array([1, 2, 3, 4, 5], dtype=uint8), array([131, 120,  48, 105,  28]))"
     },
     "execution_count": null,
     "metadata": {},
     "output_type": "execute_result"
    }
   ],
   "source": [
    "np.unique(source_info[0], return_counts=True)"
   ]
  },
  {
   "cell_type": "markdown",
   "metadata": {},
   "source": [
    "The shape of response label should be aligned with the source information"
   ]
  },
  {
   "cell_type": "code",
   "execution_count": null,
   "metadata": {},
   "outputs": [
    {
     "data": {
      "text/plain": "(26,)"
     },
     "execution_count": null,
     "metadata": {},
     "output_type": "execute_result"
    }
   ],
   "source": [
    "resp_info = data[\"user_resp_1\"][0]\n",
    "resp_info.shape"
   ]
  },
  {
   "cell_type": "code",
   "execution_count": null,
   "metadata": {},
   "outputs": [
    {
     "data": {
      "text/plain": "((432, 1), (134, 1))"
     },
     "execution_count": null,
     "metadata": {},
     "output_type": "execute_result"
    }
   ],
   "source": [
    "resp_info[0].shape, resp_info[1].shape"
   ]
  },
  {
   "cell_type": "code",
   "execution_count": null,
   "metadata": {},
   "outputs": [
    {
     "data": {
      "text/plain": "(array([1, 2, 3, 4, 5], dtype=uint8), array([ 96,  16,  95, 102, 123]))"
     },
     "execution_count": null,
     "metadata": {},
     "output_type": "execute_result"
    }
   ],
   "source": [
    "np.unique(resp_info[0], return_counts=True)"
   ]
  },
  {
   "cell_type": "markdown",
   "metadata": {},
   "source": [
    "# Machine Learning Problem -- Features and Labels\n",
    "\n",
    "Replicating the primary results has been the main focus of this research project. We may construct the classification problem as following: can we use an interpretable algorithm to discriminate different categories of trails, based on the EEG features? In doing so, we hope to explore different mechanics of memory retrival.\n",
    "\n",
    "Features, or the $\\mathbb{X}$, is `data[\"user_feat_1\"]`. Since the data are identified via both source and response variable, we need a mechanism to filter out labels that is out of interests, and combine several smaller label into a large class."
   ]
  },
  {
   "cell_type": "markdown",
   "metadata": {},
   "source": []
  }
 ],
 "metadata": {
  "kernelspec": {
   "display_name": "python3",
   "language": "python",
   "name": "python3"
  }
 },
 "nbformat": 4,
 "nbformat_minor": 0
}
