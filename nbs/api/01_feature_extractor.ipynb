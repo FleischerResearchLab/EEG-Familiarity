{
 "cells": [
  {
   "cell_type": "markdown",
   "source": [
    "# Data Loader\n",
    "\n",
    "> Data Loader Object for the EEG data"
   ],
   "metadata": {
    "collapsed": false
   }
  },
  {
   "cell_type": "code",
   "execution_count": 3,
   "outputs": [],
   "source": [
    "#| default_exp data_loader"
   ],
   "metadata": {
    "collapsed": false,
    "ExecuteTime": {
     "end_time": "2023-06-01T18:04:25.327857Z",
     "start_time": "2023-06-01T18:04:25.325709Z"
    }
   }
  },
  {
   "cell_type": "code",
   "execution_count": 4,
   "outputs": [],
   "source": [
    "#| hide\n",
    "from nbdev.showdoc import *"
   ],
   "metadata": {
    "collapsed": false,
    "ExecuteTime": {
     "end_time": "2023-06-01T18:04:25.701400Z",
     "start_time": "2023-06-01T18:04:25.699559Z"
    }
   }
  },
  {
   "cell_type": "code",
   "execution_count": 5,
   "outputs": [],
   "source": [
    "#| export\n",
    "import numpy as np\n",
    "import h5py\n",
    "from scipy.signal import firwin, filtfilt\n",
    "from scipy.signal import resample"
   ],
   "metadata": {
    "collapsed": false,
    "ExecuteTime": {
     "end_time": "2023-06-01T19:51:21.719853Z",
     "start_time": "2023-06-01T19:51:21.568169Z"
    }
   }
  },
  {
   "cell_type": "code",
   "execution_count": 103,
   "outputs": [],
   "source": [
    "#| export\n",
    "class DataLoader:\n",
    "    \"\"\"Load and Preprocess the EEG Raw Data\"\"\"\n",
    "\n",
    "    def __init__(self,\n",
    "                 all_data_fp=\"\", # the all data file's path\n",
    "                 ):\n",
    "        \"\"\"Initialize DataLoader with the data file path\"\"\"\n",
    "        # data related fields\n",
    "        self.all_data_fp = all_data_fp\n",
    "        self.all_data = None\n",
    "        self.source_info = None\n",
    "        self.resp_info = None\n",
    "        self.num_participant = None\n",
    "        # h5py data reference. Will be stored in the format of\n",
    "        # (#participant, source_info) : <HDF5 object reference>\n",
    "        self.data_refs = dict()\n",
    "        if self.all_data_fp != \"\":\n",
    "            self.load_data_ref(all_data_fp)\n",
    "\n",
    "\n",
    "    def load_data_ref(self,\n",
    "                     all_data_fp:str, # all data file's path\n",
    "                     all_data_key = \"ALLDATA\", # the MatLab variable that keeps track of all raw data\n",
    "                    ):\n",
    "        \"\"\"Load the data reference with h5py module, without laoding into RAM\"\"\"\n",
    "        # load the dataset\n",
    "        self.all_data = h5py.File(all_data_fp, 'r')[all_data_key]\n",
    "        # extract useful dataset-related attributes\n",
    "        self.source_info = list(self.all_data.keys())\n",
    "        self.num_participant = self.all_data[self.source_info[0]].shape[0]\n",
    "        # iterate through all participants in\n",
    "        for participant in range(self.num_participant):\n",
    "            for source in self.source_info:\n",
    "                key = (participant, source)\n",
    "                ref = self.all_data[source][participant][0]\n",
    "                self.data_refs[key] = ref\n",
    "\n",
    "    def _check_init(self):\n",
    "        if self.all_data is None:\n",
    "            raise ValueError(\"All Data has not been loaded. Please load via load_data_ref\")\n",
    "\n",
    "    def _get_datum(self,\n",
    "                  participant:int, # the participant number\n",
    "                  source: str, # source information, one of ['CR', 'FA', 'IR', 'SC', 'SI']\n",
    "                  ) -> h5py._hl.dataset.Dataset:\n",
    "        self._check_init()\n",
    "        return self.all_data[self.data_refs[(participant, source)]][\"data\"]\n",
    "\n",
    "    def get_data(self,\n",
    "                 participant: int, # the associate data corresponding to this participant\n",
    "                 ):\n",
    "        self._check_init()\n",
    "        data = []\n",
    "        for source in self.source_info:\n",
    "            dataset = np.array(self._get_datum(participant=participant, source=source))\n",
    "            data.append(dataset)\n",
    "        return np.concatenate(data, axis=0)\n",
    "\n",
    "    def preprocess_by_trial(self,\n",
    "                            participant: int, # the participant number that is preprocessing with\n",
    "                            reref=None,\n",
    "                            reref_t=None,\n",
    "                            freq_bands=None,\n",
    "                            f_order=None,\n",
    "                            downrate=None,\n",
    "                            t_interval=None\n",
    "                            ):\n",
    "        # get params from structure\n",
    "        input_struct = self.data_refs[(participant, self.source_info[0])]\n",
    "        xmin = self.all_data[input_struct]['xmin'][0]\n",
    "        xmax = self.all_data[input_struct]['xmax'][0]\n",
    "        srate = self.all_data[input_struct]['srate'][0]\n",
    "        input_data = self.get_data(participant)\n",
    "\n",
    "        # get params from inputs\n",
    "        if reref is None:\n",
    "            reref = 0\n",
    "\n",
    "        if reref_t is None:\n",
    "            reref_t = abs(xmin)\n",
    "\n",
    "        if freq_bands is None:\n",
    "            freq_bands = 0\n",
    "\n",
    "        if downrate is None:\n",
    "            p = 1\n",
    "            q = 1\n",
    "        elif len(downrate) == 2:\n",
    "            p = downrate[0]\n",
    "            q = downrate[1]\n",
    "        else:\n",
    "            print('error in downrate')\n",
    "            return\n",
    "\n",
    "        if t_interval is None:\n",
    "            start_t = xmin\n",
    "            end_t = xmax\n",
    "            start_s = 0\n",
    "            end_s = len(self.all_data[input_struct]['times'][0])\n",
    "        elif len(t_interval) == 2:\n",
    "            start_t = t_interval[0]\n",
    "            end_t = t_interval[1]\n",
    "            start_s = int((start_t - xmin) * srate)\n",
    "            end_s = int((end_t - xmin) * srate)\n",
    "        else:\n",
    "            print('error in t_interval')\n",
    "            return\n",
    "\n",
    "        # Preprocessing\n",
    "        num_of_channels, seq_length, num_of_trials = input_data.shape\n",
    "        output_data = []\n",
    "\n",
    "        if freq_bands != 0:\n",
    "            # define FIR filter\n",
    "            fir_filt = firwin(f_order, freq_bands/(srate/2))\n",
    "\n",
    "        str_hist = ''\n",
    "\n",
    "        for trial in range(num_of_trials):\n",
    "            temp_data1 = input_data[:, :, trial]\n",
    "\n",
    "            # if reref == 0 no re-referencing\n",
    "            if reref != 0:\n",
    "                reref_max = int(abs(reref_t) * srate)\n",
    "                ref_mean = np.mean(temp_data1[:, :reref_max], axis=1)\n",
    "                temp_data1 = temp_data1 - np.tile(ref_mean, (1, temp_data1.shape[1]))\n",
    "\n",
    "            # select pre-defined interval\n",
    "            temp_data1 = temp_data1[:, start_s:end_s]\n",
    "\n",
    "            print(temp_data1.shape)\n",
    "            seq_length, tmp2 = temp_data1.shape\n",
    "\n",
    "            # conduct filtering after interval selection\n",
    "            # if freq_bands == 0 no filtering\n",
    "            if freq_bands != 0:\n",
    "                temp_data1 = filtfilt(fir_filt, [1.0], temp_data1.T).T\n",
    "\n",
    "            # if p == q no downsampling, if p > q then error\n",
    "            if p > q:\n",
    "                print('Error while downsampling, no downsampling performed')\n",
    "            elif p < q:\n",
    "                temp_data2 = np.zeros((num_of_channels, seq_length))\n",
    "                for i in range(num_of_channels):\n",
    "                    temp_data2[i, :] = resample([0] + list(temp_data1[i, 1:]), int(p), int(q))\n",
    "            else:\n",
    "                temp_data2 = temp_data1\n",
    "\n",
    "            output_data.append(temp_data2)\n",
    "\n",
    "        if freq_bands != 0:\n",
    "            str_hist += ' filtered with filter ' + str(freq_bands)\n",
    "        if reref != 0:\n",
    "            str_hist += ' re-reference with reference from ' + str(xmin) + ' to ' + str(xmin + reref_t)\n",
    "        if p < q:\n",
    "            str_hist += ' down sampled to freq ' + str(srate * p / q)\n",
    "\n",
    "        # output_struct = None\n",
    "        # output_struct['data'] = np.array(output_data)\n",
    "        # output_struct['srate'] = srate * p / q\n",
    "        # output_struct['xmin'] = start_t\n",
    "        # output_struct['xmax'] = end_t\n",
    "        # output_struct['times'] = input_struct['times'][start_s:end_s]\n",
    "        # output_struct['history'] = input_struct['history'] + str_hist\n",
    "\n",
    "        return np.array(output_data)\n"
   ],
   "metadata": {
    "collapsed": false,
    "ExecuteTime": {
     "end_time": "2023-06-01T22:12:55.540417Z",
     "start_time": "2023-06-01T22:12:55.538655Z"
    }
   }
  },
  {
   "cell_type": "code",
   "execution_count": 104,
   "outputs": [],
   "source": [
    "#| export\n",
    "def erp_feature(input_mat, win_size):\n",
    "    n_ch, n_T, n_trials = input_mat.shape\n",
    "    n_dim = int(np.floor(n_T/win_size))\n",
    "    output_mat = np.zeros((n_ch, n_dim, n_trials))\n",
    "\n",
    "    for my_trial in range(n_trials):\n",
    "        my_mat = input_mat[:, :, my_trial]\n",
    "\n",
    "        for my_dim in range(n_dim):\n",
    "            my_time = np.arange((my_dim-1)*win_size+1, win_size*my_dim+1)\n",
    "            output_mat[:, my_dim, my_trial] = np.mean(my_mat[:, my_time], axis=1)\n",
    "\n",
    "    return output_mat"
   ],
   "metadata": {
    "collapsed": false,
    "ExecuteTime": {
     "end_time": "2023-06-01T22:12:55.843196Z",
     "start_time": "2023-06-01T22:12:55.836807Z"
    }
   }
  },
  {
   "cell_type": "code",
   "execution_count": 105,
   "outputs": [],
   "source": [
    "fp = \"../../../EEG-Local/Memory2018/Exp1_SOSI/ALLDATA_1.mat\"\n",
    "loader = DataLoader(fp)"
   ],
   "metadata": {
    "collapsed": false,
    "ExecuteTime": {
     "end_time": "2023-06-01T22:12:56.531716Z",
     "start_time": "2023-06-01T22:12:56.499830Z"
    }
   }
  },
  {
   "cell_type": "code",
   "execution_count": 107,
   "outputs": [
    {
     "name": "stdout",
     "output_type": "stream",
     "text": [
      "(432, 1)\n",
      "(432, 1)\n",
      "(432, 1)\n",
      "(432, 1)\n",
      "(432, 1)\n",
      "(432, 1)\n",
      "(432, 1)\n",
      "(432, 1)\n",
      "(432, 1)\n",
      "(432, 1)\n",
      "(432, 1)\n",
      "(432, 1)\n",
      "(432, 1)\n",
      "(432, 1)\n",
      "(432, 1)\n",
      "(432, 1)\n",
      "(432, 1)\n",
      "(432, 1)\n",
      "(432, 1)\n",
      "(432, 1)\n",
      "(432, 1)\n",
      "(432, 1)\n",
      "(432, 1)\n",
      "(432, 1)\n",
      "(432, 1)\n",
      "(432, 1)\n",
      "(432, 1)\n",
      "(432, 1)\n",
      "(432, 1)\n",
      "(432, 1)\n",
      "(432, 1)\n",
      "(432, 1)\n",
      "(432, 1)\n",
      "(432, 1)\n",
      "(432, 1)\n",
      "(432, 1)\n",
      "(432, 1)\n",
      "(432, 1)\n",
      "(432, 1)\n",
      "(432, 1)\n",
      "(432, 1)\n",
      "(432, 1)\n",
      "(432, 1)\n",
      "(432, 1)\n",
      "(432, 1)\n",
      "(432, 1)\n",
      "(432, 1)\n",
      "(432, 1)\n",
      "(432, 1)\n",
      "(432, 1)\n",
      "(432, 1)\n",
      "(432, 1)\n",
      "(432, 1)\n",
      "(432, 1)\n",
      "(432, 1)\n",
      "(432, 1)\n",
      "(432, 1)\n",
      "(432, 1)\n",
      "(432, 1)\n",
      "(432, 1)\n",
      "(432, 1)\n",
      "(432, 1)\n",
      "(432, 1)\n",
      "(432, 1)\n",
      "(432, 1)\n",
      "(432, 1)\n",
      "(432, 1)\n",
      "(432, 1)\n",
      "(432, 1)\n",
      "(432, 1)\n",
      "(432, 1)\n",
      "(432, 1)\n",
      "(432, 1)\n",
      "(432, 1)\n",
      "(432, 1)\n",
      "(432, 1)\n",
      "(432, 1)\n",
      "(432, 1)\n",
      "(432, 1)\n",
      "(432, 1)\n",
      "(432, 1)\n",
      "(432, 1)\n",
      "(432, 1)\n",
      "(432, 1)\n",
      "(432, 1)\n",
      "(432, 1)\n",
      "(432, 1)\n",
      "(432, 1)\n",
      "(432, 1)\n",
      "(432, 1)\n",
      "(432, 1)\n",
      "(432, 1)\n",
      "(432, 1)\n",
      "(432, 1)\n",
      "(432, 1)\n",
      "(432, 1)\n",
      "(432, 1)\n",
      "(432, 1)\n",
      "(432, 1)\n",
      "(432, 1)\n",
      "(432, 1)\n",
      "(432, 1)\n",
      "(432, 1)\n",
      "(432, 1)\n",
      "(432, 1)\n",
      "(432, 1)\n",
      "(432, 1)\n",
      "(432, 1)\n",
      "(432, 1)\n",
      "(432, 1)\n",
      "(432, 1)\n",
      "(432, 1)\n",
      "(432, 1)\n",
      "(432, 1)\n",
      "(432, 1)\n",
      "(432, 1)\n",
      "(432, 1)\n",
      "(432, 1)\n",
      "(432, 1)\n",
      "(432, 1)\n",
      "(432, 1)\n",
      "(432, 1)\n",
      "(432, 1)\n",
      "(432, 1)\n",
      "(432, 1)\n",
      "(432, 1)\n",
      "(432, 1)\n",
      "(432, 1)\n"
     ]
    }
   ],
   "source": [
    "output_data = loader.preprocess_by_trial(0)"
   ],
   "metadata": {
    "collapsed": false,
    "ExecuteTime": {
     "end_time": "2023-06-01T22:14:03.416092Z",
     "start_time": "2023-06-01T22:13:59.521590Z"
    }
   }
  },
  {
   "cell_type": "code",
   "execution_count": null,
   "outputs": [],
   "source": [],
   "metadata": {
    "collapsed": false
   }
  },
  {
   "cell_type": "code",
   "execution_count": 109,
   "outputs": [
    {
     "data": {
      "text/plain": "(128, 432, 1)"
     },
     "execution_count": 109,
     "metadata": {},
     "output_type": "execute_result"
    }
   ],
   "source": [
    "output_data.shape"
   ],
   "metadata": {
    "collapsed": false,
    "ExecuteTime": {
     "end_time": "2023-06-01T22:14:15.417102Z",
     "start_time": "2023-06-01T22:14:15.412181Z"
    }
   }
  },
  {
   "cell_type": "code",
   "execution_count": null,
   "outputs": [],
   "source": [
    "loader.source_info"
   ],
   "metadata": {
    "collapsed": false
   }
  },
  {
   "cell_type": "code",
   "execution_count": null,
   "outputs": [],
   "source": [],
   "metadata": {
    "collapsed": false
   }
  }
 ],
 "metadata": {
  "kernelspec": {
   "display_name": "Python 3",
   "language": "python",
   "name": "python3"
  },
  "language_info": {
   "codemirror_mode": {
    "name": "ipython",
    "version": 2
   },
   "file_extension": ".py",
   "mimetype": "text/x-python",
   "name": "python",
   "nbconvert_exporter": "python",
   "pygments_lexer": "ipython2",
   "version": "2.7.6"
  }
 },
 "nbformat": 4,
 "nbformat_minor": 0
}
