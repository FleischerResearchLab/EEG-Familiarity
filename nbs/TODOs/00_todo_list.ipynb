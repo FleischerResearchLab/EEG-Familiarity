{
 "cells": [
  {
   "cell_type": "markdown",
   "metadata": {},
   "source": [
    "# Todo List\n",
    "\n",
    "> TODO for this research project"
   ]
  },
  {
   "cell_type": "markdown",
   "metadata": {},
   "source": [
    "- Understand EEG Data Preprocessing from RAW Signal to Features\n",
    "- Replicate the Preprocessing System in Python\n",
    "- Apply the ML Pipeline to the New Dataset."
   ]
  }
 ],
 "metadata": {
  "kernelspec": {
   "display_name": "python3",
   "language": "python",
   "name": "python3"
  }
 },
 "nbformat": 4,
 "nbformat_minor": 0
}
