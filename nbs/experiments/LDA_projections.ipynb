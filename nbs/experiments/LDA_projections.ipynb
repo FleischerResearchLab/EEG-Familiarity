{
 "cells": [
  {
   "cell_type": "markdown",
   "id": "6259ae30",
   "metadata": {},
   "source": [
    "# LDA Projections onto the Discriminant Learned by the Complete Dataset"
   ]
  },
  {
   "cell_type": "code",
   "execution_count": null,
   "id": "aba18b92",
   "metadata": {},
   "outputs": [
    {
     "name": "stdout",
     "output_type": "stream",
     "text": [
      "Obtaining file:///Users/scottyang/Desktop/SP23_Working/EEG/EEG-Familiarity\n",
      "Requirement already satisfied: fastcore in /Users/scottyang/miniconda3-intel/envs/eeg/lib/python3.10/site-packages (from EEG-Familiarity==0.0.1) (1.5.29)\n",
      "Requirement already satisfied: matplotlib in /Users/scottyang/miniconda3-intel/envs/eeg/lib/python3.10/site-packages (from EEG-Familiarity==0.0.1) (3.5.1)\n",
      "Requirement already satisfied: numpy in /Users/scottyang/miniconda3-intel/envs/eeg/lib/python3.10/site-packages (from EEG-Familiarity==0.0.1) (1.22.3)\n",
      "Requirement already satisfied: pandas in /Users/scottyang/miniconda3-intel/envs/eeg/lib/python3.10/site-packages (from EEG-Familiarity==0.0.1) (1.4.2)\n",
      "Requirement already satisfied: scipy in /Users/scottyang/miniconda3-intel/envs/eeg/lib/python3.10/site-packages (from EEG-Familiarity==0.0.1) (1.10.1)\n",
      "Requirement already satisfied: scikit-learn in /Users/scottyang/miniconda3-intel/envs/eeg/lib/python3.10/site-packages (from EEG-Familiarity==0.0.1) (1.2.2)\n",
      "Requirement already satisfied: seaborn in /Users/scottyang/miniconda3-intel/envs/eeg/lib/python3.10/site-packages (from EEG-Familiarity==0.0.1) (0.12.2)\n",
      "Requirement already satisfied: packaging in /Users/scottyang/miniconda3-intel/envs/eeg/lib/python3.10/site-packages (from fastcore->EEG-Familiarity==0.0.1) (21.3)\n",
      "Requirement already satisfied: pip in /Users/scottyang/miniconda3-intel/envs/eeg/lib/python3.10/site-packages (from fastcore->EEG-Familiarity==0.0.1) (21.2.4)\n",
      "Requirement already satisfied: kiwisolver>=1.0.1 in /Users/scottyang/miniconda3-intel/envs/eeg/lib/python3.10/site-packages (from matplotlib->EEG-Familiarity==0.0.1) (1.4.2)\n",
      "Requirement already satisfied: pillow>=6.2.0 in /Users/scottyang/miniconda3-intel/envs/eeg/lib/python3.10/site-packages (from matplotlib->EEG-Familiarity==0.0.1) (9.0.1)\n",
      "Requirement already satisfied: cycler>=0.10 in /Users/scottyang/miniconda3-intel/envs/eeg/lib/python3.10/site-packages (from matplotlib->EEG-Familiarity==0.0.1) (0.11.0)\n",
      "Requirement already satisfied: python-dateutil>=2.7 in /Users/scottyang/miniconda3-intel/envs/eeg/lib/python3.10/site-packages (from matplotlib->EEG-Familiarity==0.0.1) (2.8.2)\n",
      "Requirement already satisfied: pyparsing>=2.2.1 in /Users/scottyang/miniconda3-intel/envs/eeg/lib/python3.10/site-packages (from matplotlib->EEG-Familiarity==0.0.1) (3.0.4)\n",
      "Requirement already satisfied: fonttools>=4.22.0 in /Users/scottyang/miniconda3-intel/envs/eeg/lib/python3.10/site-packages (from matplotlib->EEG-Familiarity==0.0.1) (4.25.0)\n",
      "Requirement already satisfied: six>=1.5 in /Users/scottyang/miniconda3-intel/envs/eeg/lib/python3.10/site-packages (from python-dateutil>=2.7->matplotlib->EEG-Familiarity==0.0.1) (1.16.0)\n",
      "Requirement already satisfied: pytz>=2020.1 in /Users/scottyang/miniconda3-intel/envs/eeg/lib/python3.10/site-packages (from pandas->EEG-Familiarity==0.0.1) (2022.1)\n",
      "Requirement already satisfied: joblib>=1.1.1 in /Users/scottyang/miniconda3-intel/envs/eeg/lib/python3.10/site-packages (from scikit-learn->EEG-Familiarity==0.0.1) (1.2.0)\n",
      "Requirement already satisfied: threadpoolctl>=2.0.0 in /Users/scottyang/miniconda3-intel/envs/eeg/lib/python3.10/site-packages (from scikit-learn->EEG-Familiarity==0.0.1) (3.1.0)\n",
      "Installing collected packages: EEG-Familiarity\n",
      "  Attempting uninstall: EEG-Familiarity\n",
      "    Found existing installation: EEG-Familiarity 0.0.1\n",
      "    Uninstalling EEG-Familiarity-0.0.1:\n",
      "      Successfully uninstalled EEG-Familiarity-0.0.1\n",
      "  Running setup.py develop for EEG-Familiarity\n",
      "Successfully installed EEG-Familiarity-0.0.1\n"
     ]
    }
   ],
   "source": [
    "# Build from source\n",
    "!pip install -e '../../[dev]'"
   ]
  },
  {
   "cell_type": "code",
   "execution_count": null,
   "id": "5947df6c",
   "metadata": {},
   "outputs": [],
   "source": [
    "import scipy.io\n",
    "import pandas as pd\n",
    "import numpy as np \n",
    "from sklearn.model_selection import LeaveOneGroupOut, cross_val_score, cross_val_predict\n",
    "from sklearn.preprocessing import StandardScaler\n",
    "from sklearn.covariance import ledoit_wolf\n",
    "from sklearn.discriminant_analysis import LinearDiscriminantAnalysis\n",
    "from sklearn.metrics import accuracy_score, roc_auc_score\n",
    "import scipy.stats as stats\n",
    "\n",
    "import matplotlib.pyplot as plt\n",
    "%matplotlib inline\n",
    "%config InlineBackend.figure_format='retina'\n",
    "\n",
    "import seaborn as sns\n",
    "sns.set_style(\"darkgrid\")\n",
    "\n",
    "from EEG_Familiarity.preproc import preproc\n",
    "\n",
    "# class attributes\n",
    "source_info = [\"SC\", \"CR\", \"SI\", \"M\", \"FA\"]\n",
    "response_info = [\"RS\", \"RO\", \"F\", \"MN\", \"SN\"]\n",
    "\n",
    "# the x-axis on the projection graph\n",
    "x_axis = [(1, 1), (3, 1), (5, 1), (1, 2), (5, 2),\n",
    "          (1, 3), (3, 3), (5, 3), (4, 4), (2, 4),\n",
    "          (4, 5), (2, 5)]"
   ]
  },
  {
   "cell_type": "code",
   "execution_count": null,
   "id": "4cb1aa26",
   "metadata": {},
   "outputs": [],
   "source": [
    "def cal_acc_balanced(clf, trail_num):\n",
    "    \"\"\"\n",
    "    A summary function that calculate the accuracy in the literature\n",
    "    based the aforementioned approach. \n",
    "    \n",
    "    clf and trail_num can be used to specify which classifier and which\n",
    "    experiment that we wish to learn.\n",
    "    \"\"\"\n",
    "    file_path = f\"data_imbalLDA_{trail_num}.mat\"\n",
    "    data_preproc = preproc(file_path, trail_num)\n",
    "    if clf == \"SN_MN\":\n",
    "        pos1, neg1 = data_preproc.filter_index(2,5,2,4)\n",
    "        pos2, neg2 = data_preproc.filter_index(4,5,4,4)\n",
    "    elif clf == \"F_CR\":\n",
    "        pos1, neg1 = data_preproc.filter_index(1,3,2,4)\n",
    "        pos2, neg2 = data_preproc.filter_index(3,3,2,5)\n",
    "    else:\n",
    "        raise ValueError(\"Unknown Classifier. Should be either `SN_MN` or `F_CR`\")\n",
    "    pos_idx, neg_idx = data_preproc.merge_two_class(pos1, neg1, pos2, neg2)\n",
    "    X, y, subject = data_preproc.get_data_by_index(pos_idx, neg_idx)\n",
    "\n",
    "    logo = LeaveOneGroupOut()\n",
    "\n",
    "    scores = []\n",
    "\n",
    "    for train_idx, test_idx in logo.split(X, y, subject):\n",
    "        X_train, y_train = X[train_idx,:], y[train_idx]\n",
    "        X_test, y_test = X[test_idx,:], y[test_idx]\n",
    "        LDA = LinearDiscriminantAnalysis(shrinkage = None, solver = 'eigen')\n",
    "        LDA.fit(X_train, y_train)\n",
    "        # randomly drop datapoint to balance class\n",
    "        pos_idx, neg_idx = np.arange(len(test_idx))[y_test == 1], np.arange(len(test_idx))[y_test != 1]\n",
    "        pos_len, neg_len = len(pos_idx), len(neg_idx)\n",
    "        acc = []\n",
    "        for _ in range(10):\n",
    "            if pos_len > neg_len:\n",
    "                # when there are more positive class than negative\n",
    "                # randomly drop positive class to equivalent the negative class\n",
    "                pos_chosen = np.random.choice(pos_idx, neg_len, replace=False)\n",
    "                neg_chosen = neg_idx\n",
    "            else:\n",
    "                pos_chosen = pos_idx\n",
    "                neg_chosen = np.random.choice(neg_idx, pos_len, replace=False)\n",
    "            filter_test_idx = np.concatenate([pos_chosen, neg_chosen])\n",
    "            X_test_balanced, y_test_balanced = X_test[filter_test_idx, :], y_test[filter_test_idx]\n",
    "            assert sum(y_test_balanced) == 0 # to check whether they are balanced class\n",
    "            acc.append(LDA.score(X_test_balanced, y_test_balanced))\n",
    "        acc = np.array(acc)\n",
    "        scores.append(acc)\n",
    "    scores = np.array(scores)\n",
    "    return scores.mean()"
   ]
  },
  {
   "cell_type": "code",
   "execution_count": null,
   "id": "86e42306",
   "metadata": {},
   "outputs": [
    {
     "ename": "ValueError",
     "evalue": "Found input variables with inconsistent numbers of samples: [2, 3813, 3813]",
     "output_type": "error",
     "traceback": [
      "\u001b[0;31m---------------------------------------------------------------------------\u001b[0m",
      "\u001b[0;31mValueError\u001b[0m                                Traceback (most recent call last)",
      "Input \u001b[0;32mIn [6]\u001b[0m, in \u001b[0;36m<cell line: 15>\u001b[0;34m()\u001b[0m\n\u001b[1;32m     13\u001b[0m pos_idx \u001b[38;5;241m=\u001b[39m [\u001b[38;5;241m10\u001b[39m, \u001b[38;5;241m11\u001b[39m]\n\u001b[1;32m     14\u001b[0m neg_idx \u001b[38;5;241m=\u001b[39m [\u001b[38;5;241m8\u001b[39m, \u001b[38;5;241m9\u001b[39m]\n\u001b[0;32m---> 15\u001b[0m \u001b[43mdata_preproc\u001b[49m\u001b[38;5;241;43m.\u001b[39;49m\u001b[43mgenerate_projections\u001b[49m\u001b[43m(\u001b[49m\u001b[43mLDA\u001b[49m\u001b[43m,\u001b[49m\u001b[43m \u001b[49m\u001b[43mpos_idx\u001b[49m\u001b[43m,\u001b[49m\u001b[43m \u001b[49m\u001b[43mneg_idx\u001b[49m\u001b[43m,\u001b[49m\u001b[43m \u001b[49m\u001b[43mX\u001b[49m\u001b[43m,\u001b[49m\u001b[43m \u001b[49m\u001b[43my\u001b[49m\u001b[43m,\u001b[49m\u001b[43m \u001b[49m\u001b[43msubject\u001b[49m\u001b[43m)\u001b[49m\n\u001b[1;32m     16\u001b[0m plt\u001b[38;5;241m.\u001b[39mtitle(\u001b[38;5;124mf\u001b[39m\u001b[38;5;124m\"\u001b[39m\u001b[38;5;132;01m{\u001b[39;00mclf\u001b[38;5;132;01m}\u001b[39;00m\u001b[38;5;124m Projection Experiment \u001b[39m\u001b[38;5;132;01m{\u001b[39;00mexp\u001b[38;5;132;01m}\u001b[39;00m\u001b[38;5;124m\"\u001b[39m, fontsize \u001b[38;5;241m=\u001b[39m \u001b[38;5;241m12\u001b[39m)\n",
      "File \u001b[0;32m~/Desktop/SP23_Working/EEG/EEG-Familiarity/EEG_Familiarity/preproc.py:356\u001b[0m, in \u001b[0;36mpreproc.generate_projections\u001b[0;34m(clf, pos_idx, neg_idx, X, y, subject, balance)\u001b[0m\n\u001b[1;32m    354\u001b[0m logo \u001b[38;5;241m=\u001b[39m LeaveOneGroupOut()\n\u001b[1;32m    355\u001b[0m curr \u001b[38;5;241m=\u001b[39m \u001b[38;5;241m0\u001b[39m\n\u001b[0;32m--> 356\u001b[0m \u001b[38;5;28;01mfor\u001b[39;00m train_idx, test_idx \u001b[38;5;129;01min\u001b[39;00m logo\u001b[38;5;241m.\u001b[39msplit(X, y, subject):\n\u001b[1;32m    357\u001b[0m     \u001b[38;5;66;03m# select out the id of the participant that we left out\u001b[39;00m\n\u001b[1;32m    358\u001b[0m     participant \u001b[38;5;241m=\u001b[39m \u001b[38;5;28mint\u001b[39m(subject[curr])\n\u001b[1;32m    359\u001b[0m     curr \u001b[38;5;241m+\u001b[39m\u001b[38;5;241m=\u001b[39m \u001b[38;5;28mlen\u001b[39m(test_idx)\n",
      "File \u001b[0;32m~/miniconda3-intel/envs/eeg/lib/python3.10/site-packages/sklearn/model_selection/_split.py:83\u001b[0m, in \u001b[0;36mBaseCrossValidator.split\u001b[0;34m(self, X, y, groups)\u001b[0m\n\u001b[1;32m     59\u001b[0m \u001b[38;5;28;01mdef\u001b[39;00m \u001b[38;5;21msplit\u001b[39m(\u001b[38;5;28mself\u001b[39m, X, y\u001b[38;5;241m=\u001b[39m\u001b[38;5;28;01mNone\u001b[39;00m, groups\u001b[38;5;241m=\u001b[39m\u001b[38;5;28;01mNone\u001b[39;00m):\n\u001b[1;32m     60\u001b[0m     \u001b[38;5;124;03m\"\"\"Generate indices to split data into training and test set.\u001b[39;00m\n\u001b[1;32m     61\u001b[0m \n\u001b[1;32m     62\u001b[0m \u001b[38;5;124;03m    Parameters\u001b[39;00m\n\u001b[0;32m   (...)\u001b[0m\n\u001b[1;32m     81\u001b[0m \u001b[38;5;124;03m        The testing set indices for that split.\u001b[39;00m\n\u001b[1;32m     82\u001b[0m \u001b[38;5;124;03m    \"\"\"\u001b[39;00m\n\u001b[0;32m---> 83\u001b[0m     X, y, groups \u001b[38;5;241m=\u001b[39m \u001b[43mindexable\u001b[49m\u001b[43m(\u001b[49m\u001b[43mX\u001b[49m\u001b[43m,\u001b[49m\u001b[43m \u001b[49m\u001b[43my\u001b[49m\u001b[43m,\u001b[49m\u001b[43m \u001b[49m\u001b[43mgroups\u001b[49m\u001b[43m)\u001b[49m\n\u001b[1;32m     84\u001b[0m     indices \u001b[38;5;241m=\u001b[39m np\u001b[38;5;241m.\u001b[39marange(_num_samples(X))\n\u001b[1;32m     85\u001b[0m     \u001b[38;5;28;01mfor\u001b[39;00m test_index \u001b[38;5;129;01min\u001b[39;00m \u001b[38;5;28mself\u001b[39m\u001b[38;5;241m.\u001b[39m_iter_test_masks(X, y, groups):\n",
      "File \u001b[0;32m~/miniconda3-intel/envs/eeg/lib/python3.10/site-packages/sklearn/utils/validation.py:443\u001b[0m, in \u001b[0;36mindexable\u001b[0;34m(*iterables)\u001b[0m\n\u001b[1;32m    424\u001b[0m \u001b[38;5;124;03m\"\"\"Make arrays indexable for cross-validation.\u001b[39;00m\n\u001b[1;32m    425\u001b[0m \n\u001b[1;32m    426\u001b[0m \u001b[38;5;124;03mChecks consistent length, passes through None, and ensures that everything\u001b[39;00m\n\u001b[0;32m   (...)\u001b[0m\n\u001b[1;32m    439\u001b[0m \u001b[38;5;124;03m    sparse matrix, or dataframe) or `None`.\u001b[39;00m\n\u001b[1;32m    440\u001b[0m \u001b[38;5;124;03m\"\"\"\u001b[39;00m\n\u001b[1;32m    442\u001b[0m result \u001b[38;5;241m=\u001b[39m [_make_indexable(X) \u001b[38;5;28;01mfor\u001b[39;00m X \u001b[38;5;129;01min\u001b[39;00m iterables]\n\u001b[0;32m--> 443\u001b[0m \u001b[43mcheck_consistent_length\u001b[49m\u001b[43m(\u001b[49m\u001b[38;5;241;43m*\u001b[39;49m\u001b[43mresult\u001b[49m\u001b[43m)\u001b[49m\n\u001b[1;32m    444\u001b[0m \u001b[38;5;28;01mreturn\u001b[39;00m result\n",
      "File \u001b[0;32m~/miniconda3-intel/envs/eeg/lib/python3.10/site-packages/sklearn/utils/validation.py:397\u001b[0m, in \u001b[0;36mcheck_consistent_length\u001b[0;34m(*arrays)\u001b[0m\n\u001b[1;32m    395\u001b[0m uniques \u001b[38;5;241m=\u001b[39m np\u001b[38;5;241m.\u001b[39munique(lengths)\n\u001b[1;32m    396\u001b[0m \u001b[38;5;28;01mif\u001b[39;00m \u001b[38;5;28mlen\u001b[39m(uniques) \u001b[38;5;241m>\u001b[39m \u001b[38;5;241m1\u001b[39m:\n\u001b[0;32m--> 397\u001b[0m     \u001b[38;5;28;01mraise\u001b[39;00m \u001b[38;5;167;01mValueError\u001b[39;00m(\n\u001b[1;32m    398\u001b[0m         \u001b[38;5;124m\"\u001b[39m\u001b[38;5;124mFound input variables with inconsistent numbers of samples: \u001b[39m\u001b[38;5;132;01m%r\u001b[39;00m\u001b[38;5;124m\"\u001b[39m\n\u001b[1;32m    399\u001b[0m         \u001b[38;5;241m%\u001b[39m [\u001b[38;5;28mint\u001b[39m(l) \u001b[38;5;28;01mfor\u001b[39;00m l \u001b[38;5;129;01min\u001b[39;00m lengths]\n\u001b[1;32m    400\u001b[0m     )\n",
      "\u001b[0;31mValueError\u001b[0m: Found input variables with inconsistent numbers of samples: [2, 3813, 3813]"
     ]
    }
   ],
   "source": [
    "# multiple group\n",
    "file_path = \"../../../EEG-Familiarity-Prediction/data_imbalLDA_1.mat\"\n",
    "\n",
    "data_preproc = preproc(file_path, experiment_num=1)\n",
    "pos1, neg1 = data_preproc.filter_index(2,5,2,4)\n",
    "pos2, neg2 = data_preproc.filter_index(4,5,4,4)\n",
    "\n",
    "pos_idx, neg_idx = data_preproc.merge_two_class(pos1, neg1, pos2, neg2)\n",
    "X, y, subject = data_preproc.get_data_by_index(pos_idx, neg_idx)\n",
    "\n",
    "LDA = LinearDiscriminantAnalysis(shrinkage=None, solver=\"eigen\")\n",
    "\n",
    "pos_idx = [10, 11]\n",
    "neg_idx = [8, 9]\n",
    "data_preproc.generate_projections(LDA, pos_idx, neg_idx, X, y, subject)\n",
    "plt.title(f\"{clf} Projection Experiment {exp}\", fontsize = 12)"
   ]
  },
  {
   "cell_type": "code",
   "execution_count": null,
   "id": "c30f9aca",
   "metadata": {},
   "outputs": [
    {
     "data": {
      "text/plain": [
       "(3813, 72)"
      ]
     },
     "execution_count": null,
     "metadata": {},
     "output_type": "execute_result"
    }
   ],
   "source": [
    "X.shape"
   ]
  },
  {
   "cell_type": "code",
   "execution_count": null,
   "id": "300cc584",
   "metadata": {},
   "outputs": [
    {
     "data": {
      "text/plain": [
       "(3813,)"
      ]
     },
     "execution_count": null,
     "metadata": {},
     "output_type": "execute_result"
    }
   ],
   "source": [
    "y.shape"
   ]
  },
  {
   "cell_type": "code",
   "execution_count": null,
   "id": "b3f82ba0",
   "metadata": {},
   "outputs": [
    {
     "data": {
      "text/plain": [
       "(3813,)"
      ]
     },
     "execution_count": null,
     "metadata": {},
     "output_type": "execute_result"
    }
   ],
   "source": [
    "subject.shape"
   ]
  },
  {
   "cell_type": "code",
   "execution_count": null,
   "id": "8e27ccc1",
   "metadata": {},
   "outputs": [],
   "source": []
  }
 ],
 "metadata": {
  "kernelspec": {
   "display_name": "python3",
   "language": "python",
   "name": "python3"
  }
 },
 "nbformat": 4,
 "nbformat_minor": 5
}
